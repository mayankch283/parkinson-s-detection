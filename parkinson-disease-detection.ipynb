{
 "cells": [
  {
   "cell_type": "markdown",
   "id": "9b2f36a0",
   "metadata": {
    "papermill": {
     "duration": 0.01393,
     "end_time": "2024-07-06T07:49:52.730961",
     "exception": false,
     "start_time": "2024-07-06T07:49:52.717031",
     "status": "completed"
    },
    "tags": []
   },
   "source": [
    "**Import Relevant Libraries**"
   ]
  },
  {
   "cell_type": "code",
   "execution_count": 1,
   "id": "d87abc2b",
   "metadata": {
    "papermill": {
     "duration": 3.315335,
     "end_time": "2024-07-06T07:49:56.059190",
     "exception": false,
     "start_time": "2024-07-06T07:49:52.743855",
     "status": "completed"
    },
    "tags": []
   },
   "outputs": [],
   "source": [
    "import numpy as np # linear algebra\n",
    "import pandas as pd # data processing, CSV file I/O (e.g. pd.read_csv)\n",
    "import numpy as np\n",
    "import pandas as pd\n",
    "import matplotlib.pyplot as plt\n",
    "import seaborn as sns\n",
    "sns.set_style('whitegrid')\n",
    "\n",
    "pd.options.display.max_columns = None\n",
    "pd.options.display.max_colwidth = 100\n",
    "\n",
    "from sklearn.model_selection import train_test_split\n",
    "from sklearn.preprocessing import StandardScaler\n",
    "from sklearn.linear_model import LogisticRegression"
   ]
  },
  {
   "cell_type": "markdown",
   "id": "1fcf321d",
   "metadata": {
    "papermill": {
     "duration": 0.012294,
     "end_time": "2024-07-06T07:49:56.084524",
     "exception": false,
     "start_time": "2024-07-06T07:49:56.072230",
     "status": "completed"
    },
    "tags": []
   },
   "source": [
    "**Reading the csv data and storing it in raw_data DataFrame.**"
   ]
  },
  {
   "cell_type": "code",
   "execution_count": 2,
   "id": "fdef2bf9",
   "metadata": {
    "papermill": {
     "duration": 0.08803,
     "end_time": "2024-07-06T07:49:56.185134",
     "exception": false,
     "start_time": "2024-07-06T07:49:56.097104",
     "status": "completed"
    },
    "tags": []
   },
   "outputs": [
    {
     "data": {
      "text/html": [
       "<div>\n",
       "<style scoped>\n",
       "    .dataframe tbody tr th:only-of-type {\n",
       "        vertical-align: middle;\n",
       "    }\n",
       "\n",
       "    .dataframe tbody tr th {\n",
       "        vertical-align: top;\n",
       "    }\n",
       "\n",
       "    .dataframe thead th {\n",
       "        text-align: right;\n",
       "    }\n",
       "</style>\n",
       "<table border=\"1\" class=\"dataframe\">\n",
       "  <thead>\n",
       "    <tr style=\"text-align: right;\">\n",
       "      <th></th>\n",
       "      <th>name</th>\n",
       "      <th>MDVP:Fo(Hz)</th>\n",
       "      <th>MDVP:Fhi(Hz)</th>\n",
       "      <th>MDVP:Flo(Hz)</th>\n",
       "      <th>MDVP:Jitter(%)</th>\n",
       "      <th>MDVP:Jitter(Abs)</th>\n",
       "      <th>MDVP:RAP</th>\n",
       "      <th>MDVP:PPQ</th>\n",
       "      <th>Jitter:DDP</th>\n",
       "      <th>MDVP:Shimmer</th>\n",
       "      <th>MDVP:Shimmer(dB)</th>\n",
       "      <th>Shimmer:APQ3</th>\n",
       "      <th>Shimmer:APQ5</th>\n",
       "      <th>MDVP:APQ</th>\n",
       "      <th>Shimmer:DDA</th>\n",
       "      <th>NHR</th>\n",
       "      <th>HNR</th>\n",
       "      <th>status</th>\n",
       "      <th>RPDE</th>\n",
       "      <th>DFA</th>\n",
       "      <th>spread1</th>\n",
       "      <th>spread2</th>\n",
       "      <th>D2</th>\n",
       "      <th>PPE</th>\n",
       "    </tr>\n",
       "  </thead>\n",
       "  <tbody>\n",
       "    <tr>\n",
       "      <th>0</th>\n",
       "      <td>phon_R01_S01_1</td>\n",
       "      <td>119.992</td>\n",
       "      <td>157.302</td>\n",
       "      <td>74.997</td>\n",
       "      <td>0.00784</td>\n",
       "      <td>0.00007</td>\n",
       "      <td>0.00370</td>\n",
       "      <td>0.00554</td>\n",
       "      <td>0.01109</td>\n",
       "      <td>0.04374</td>\n",
       "      <td>0.426</td>\n",
       "      <td>0.02182</td>\n",
       "      <td>0.03130</td>\n",
       "      <td>0.02971</td>\n",
       "      <td>0.06545</td>\n",
       "      <td>0.02211</td>\n",
       "      <td>21.033</td>\n",
       "      <td>1</td>\n",
       "      <td>0.414783</td>\n",
       "      <td>0.815285</td>\n",
       "      <td>-4.813031</td>\n",
       "      <td>0.266482</td>\n",
       "      <td>2.301442</td>\n",
       "      <td>0.284654</td>\n",
       "    </tr>\n",
       "    <tr>\n",
       "      <th>1</th>\n",
       "      <td>phon_R01_S01_2</td>\n",
       "      <td>122.400</td>\n",
       "      <td>148.650</td>\n",
       "      <td>113.819</td>\n",
       "      <td>0.00968</td>\n",
       "      <td>0.00008</td>\n",
       "      <td>0.00465</td>\n",
       "      <td>0.00696</td>\n",
       "      <td>0.01394</td>\n",
       "      <td>0.06134</td>\n",
       "      <td>0.626</td>\n",
       "      <td>0.03134</td>\n",
       "      <td>0.04518</td>\n",
       "      <td>0.04368</td>\n",
       "      <td>0.09403</td>\n",
       "      <td>0.01929</td>\n",
       "      <td>19.085</td>\n",
       "      <td>1</td>\n",
       "      <td>0.458359</td>\n",
       "      <td>0.819521</td>\n",
       "      <td>-4.075192</td>\n",
       "      <td>0.335590</td>\n",
       "      <td>2.486855</td>\n",
       "      <td>0.368674</td>\n",
       "    </tr>\n",
       "    <tr>\n",
       "      <th>2</th>\n",
       "      <td>phon_R01_S01_3</td>\n",
       "      <td>116.682</td>\n",
       "      <td>131.111</td>\n",
       "      <td>111.555</td>\n",
       "      <td>0.01050</td>\n",
       "      <td>0.00009</td>\n",
       "      <td>0.00544</td>\n",
       "      <td>0.00781</td>\n",
       "      <td>0.01633</td>\n",
       "      <td>0.05233</td>\n",
       "      <td>0.482</td>\n",
       "      <td>0.02757</td>\n",
       "      <td>0.03858</td>\n",
       "      <td>0.03590</td>\n",
       "      <td>0.08270</td>\n",
       "      <td>0.01309</td>\n",
       "      <td>20.651</td>\n",
       "      <td>1</td>\n",
       "      <td>0.429895</td>\n",
       "      <td>0.825288</td>\n",
       "      <td>-4.443179</td>\n",
       "      <td>0.311173</td>\n",
       "      <td>2.342259</td>\n",
       "      <td>0.332634</td>\n",
       "    </tr>\n",
       "    <tr>\n",
       "      <th>3</th>\n",
       "      <td>phon_R01_S01_4</td>\n",
       "      <td>116.676</td>\n",
       "      <td>137.871</td>\n",
       "      <td>111.366</td>\n",
       "      <td>0.00997</td>\n",
       "      <td>0.00009</td>\n",
       "      <td>0.00502</td>\n",
       "      <td>0.00698</td>\n",
       "      <td>0.01505</td>\n",
       "      <td>0.05492</td>\n",
       "      <td>0.517</td>\n",
       "      <td>0.02924</td>\n",
       "      <td>0.04005</td>\n",
       "      <td>0.03772</td>\n",
       "      <td>0.08771</td>\n",
       "      <td>0.01353</td>\n",
       "      <td>20.644</td>\n",
       "      <td>1</td>\n",
       "      <td>0.434969</td>\n",
       "      <td>0.819235</td>\n",
       "      <td>-4.117501</td>\n",
       "      <td>0.334147</td>\n",
       "      <td>2.405554</td>\n",
       "      <td>0.368975</td>\n",
       "    </tr>\n",
       "    <tr>\n",
       "      <th>4</th>\n",
       "      <td>phon_R01_S01_5</td>\n",
       "      <td>116.014</td>\n",
       "      <td>141.781</td>\n",
       "      <td>110.655</td>\n",
       "      <td>0.01284</td>\n",
       "      <td>0.00011</td>\n",
       "      <td>0.00655</td>\n",
       "      <td>0.00908</td>\n",
       "      <td>0.01966</td>\n",
       "      <td>0.06425</td>\n",
       "      <td>0.584</td>\n",
       "      <td>0.03490</td>\n",
       "      <td>0.04825</td>\n",
       "      <td>0.04465</td>\n",
       "      <td>0.10470</td>\n",
       "      <td>0.01767</td>\n",
       "      <td>19.649</td>\n",
       "      <td>1</td>\n",
       "      <td>0.417356</td>\n",
       "      <td>0.823484</td>\n",
       "      <td>-3.747787</td>\n",
       "      <td>0.234513</td>\n",
       "      <td>2.332180</td>\n",
       "      <td>0.410335</td>\n",
       "    </tr>\n",
       "    <tr>\n",
       "      <th>5</th>\n",
       "      <td>phon_R01_S01_6</td>\n",
       "      <td>120.552</td>\n",
       "      <td>131.162</td>\n",
       "      <td>113.787</td>\n",
       "      <td>0.00968</td>\n",
       "      <td>0.00008</td>\n",
       "      <td>0.00463</td>\n",
       "      <td>0.00750</td>\n",
       "      <td>0.01388</td>\n",
       "      <td>0.04701</td>\n",
       "      <td>0.456</td>\n",
       "      <td>0.02328</td>\n",
       "      <td>0.03526</td>\n",
       "      <td>0.03243</td>\n",
       "      <td>0.06985</td>\n",
       "      <td>0.01222</td>\n",
       "      <td>21.378</td>\n",
       "      <td>1</td>\n",
       "      <td>0.415564</td>\n",
       "      <td>0.825069</td>\n",
       "      <td>-4.242867</td>\n",
       "      <td>0.299111</td>\n",
       "      <td>2.187560</td>\n",
       "      <td>0.357775</td>\n",
       "    </tr>\n",
       "    <tr>\n",
       "      <th>6</th>\n",
       "      <td>phon_R01_S02_1</td>\n",
       "      <td>120.267</td>\n",
       "      <td>137.244</td>\n",
       "      <td>114.820</td>\n",
       "      <td>0.00333</td>\n",
       "      <td>0.00003</td>\n",
       "      <td>0.00155</td>\n",
       "      <td>0.00202</td>\n",
       "      <td>0.00466</td>\n",
       "      <td>0.01608</td>\n",
       "      <td>0.140</td>\n",
       "      <td>0.00779</td>\n",
       "      <td>0.00937</td>\n",
       "      <td>0.01351</td>\n",
       "      <td>0.02337</td>\n",
       "      <td>0.00607</td>\n",
       "      <td>24.886</td>\n",
       "      <td>1</td>\n",
       "      <td>0.596040</td>\n",
       "      <td>0.764112</td>\n",
       "      <td>-5.634322</td>\n",
       "      <td>0.257682</td>\n",
       "      <td>1.854785</td>\n",
       "      <td>0.211756</td>\n",
       "    </tr>\n",
       "    <tr>\n",
       "      <th>7</th>\n",
       "      <td>phon_R01_S02_2</td>\n",
       "      <td>107.332</td>\n",
       "      <td>113.840</td>\n",
       "      <td>104.315</td>\n",
       "      <td>0.00290</td>\n",
       "      <td>0.00003</td>\n",
       "      <td>0.00144</td>\n",
       "      <td>0.00182</td>\n",
       "      <td>0.00431</td>\n",
       "      <td>0.01567</td>\n",
       "      <td>0.134</td>\n",
       "      <td>0.00829</td>\n",
       "      <td>0.00946</td>\n",
       "      <td>0.01256</td>\n",
       "      <td>0.02487</td>\n",
       "      <td>0.00344</td>\n",
       "      <td>26.892</td>\n",
       "      <td>1</td>\n",
       "      <td>0.637420</td>\n",
       "      <td>0.763262</td>\n",
       "      <td>-6.167603</td>\n",
       "      <td>0.183721</td>\n",
       "      <td>2.064693</td>\n",
       "      <td>0.163755</td>\n",
       "    </tr>\n",
       "    <tr>\n",
       "      <th>8</th>\n",
       "      <td>phon_R01_S02_3</td>\n",
       "      <td>95.730</td>\n",
       "      <td>132.068</td>\n",
       "      <td>91.754</td>\n",
       "      <td>0.00551</td>\n",
       "      <td>0.00006</td>\n",
       "      <td>0.00293</td>\n",
       "      <td>0.00332</td>\n",
       "      <td>0.00880</td>\n",
       "      <td>0.02093</td>\n",
       "      <td>0.191</td>\n",
       "      <td>0.01073</td>\n",
       "      <td>0.01277</td>\n",
       "      <td>0.01717</td>\n",
       "      <td>0.03218</td>\n",
       "      <td>0.01070</td>\n",
       "      <td>21.812</td>\n",
       "      <td>1</td>\n",
       "      <td>0.615551</td>\n",
       "      <td>0.773587</td>\n",
       "      <td>-5.498678</td>\n",
       "      <td>0.327769</td>\n",
       "      <td>2.322511</td>\n",
       "      <td>0.231571</td>\n",
       "    </tr>\n",
       "    <tr>\n",
       "      <th>9</th>\n",
       "      <td>phon_R01_S02_4</td>\n",
       "      <td>95.056</td>\n",
       "      <td>120.103</td>\n",
       "      <td>91.226</td>\n",
       "      <td>0.00532</td>\n",
       "      <td>0.00006</td>\n",
       "      <td>0.00268</td>\n",
       "      <td>0.00332</td>\n",
       "      <td>0.00803</td>\n",
       "      <td>0.02838</td>\n",
       "      <td>0.255</td>\n",
       "      <td>0.01441</td>\n",
       "      <td>0.01725</td>\n",
       "      <td>0.02444</td>\n",
       "      <td>0.04324</td>\n",
       "      <td>0.01022</td>\n",
       "      <td>21.862</td>\n",
       "      <td>1</td>\n",
       "      <td>0.547037</td>\n",
       "      <td>0.798463</td>\n",
       "      <td>-5.011879</td>\n",
       "      <td>0.325996</td>\n",
       "      <td>2.432792</td>\n",
       "      <td>0.271362</td>\n",
       "    </tr>\n",
       "  </tbody>\n",
       "</table>\n",
       "</div>"
      ],
      "text/plain": [
       "             name  MDVP:Fo(Hz)  MDVP:Fhi(Hz)  MDVP:Flo(Hz)  MDVP:Jitter(%)  \\\n",
       "0  phon_R01_S01_1      119.992       157.302        74.997         0.00784   \n",
       "1  phon_R01_S01_2      122.400       148.650       113.819         0.00968   \n",
       "2  phon_R01_S01_3      116.682       131.111       111.555         0.01050   \n",
       "3  phon_R01_S01_4      116.676       137.871       111.366         0.00997   \n",
       "4  phon_R01_S01_5      116.014       141.781       110.655         0.01284   \n",
       "5  phon_R01_S01_6      120.552       131.162       113.787         0.00968   \n",
       "6  phon_R01_S02_1      120.267       137.244       114.820         0.00333   \n",
       "7  phon_R01_S02_2      107.332       113.840       104.315         0.00290   \n",
       "8  phon_R01_S02_3       95.730       132.068        91.754         0.00551   \n",
       "9  phon_R01_S02_4       95.056       120.103        91.226         0.00532   \n",
       "\n",
       "   MDVP:Jitter(Abs)  MDVP:RAP  MDVP:PPQ  Jitter:DDP  MDVP:Shimmer  \\\n",
       "0           0.00007   0.00370   0.00554     0.01109       0.04374   \n",
       "1           0.00008   0.00465   0.00696     0.01394       0.06134   \n",
       "2           0.00009   0.00544   0.00781     0.01633       0.05233   \n",
       "3           0.00009   0.00502   0.00698     0.01505       0.05492   \n",
       "4           0.00011   0.00655   0.00908     0.01966       0.06425   \n",
       "5           0.00008   0.00463   0.00750     0.01388       0.04701   \n",
       "6           0.00003   0.00155   0.00202     0.00466       0.01608   \n",
       "7           0.00003   0.00144   0.00182     0.00431       0.01567   \n",
       "8           0.00006   0.00293   0.00332     0.00880       0.02093   \n",
       "9           0.00006   0.00268   0.00332     0.00803       0.02838   \n",
       "\n",
       "   MDVP:Shimmer(dB)  Shimmer:APQ3  Shimmer:APQ5  MDVP:APQ  Shimmer:DDA  \\\n",
       "0             0.426       0.02182       0.03130   0.02971      0.06545   \n",
       "1             0.626       0.03134       0.04518   0.04368      0.09403   \n",
       "2             0.482       0.02757       0.03858   0.03590      0.08270   \n",
       "3             0.517       0.02924       0.04005   0.03772      0.08771   \n",
       "4             0.584       0.03490       0.04825   0.04465      0.10470   \n",
       "5             0.456       0.02328       0.03526   0.03243      0.06985   \n",
       "6             0.140       0.00779       0.00937   0.01351      0.02337   \n",
       "7             0.134       0.00829       0.00946   0.01256      0.02487   \n",
       "8             0.191       0.01073       0.01277   0.01717      0.03218   \n",
       "9             0.255       0.01441       0.01725   0.02444      0.04324   \n",
       "\n",
       "       NHR     HNR  status      RPDE       DFA   spread1   spread2        D2  \\\n",
       "0  0.02211  21.033       1  0.414783  0.815285 -4.813031  0.266482  2.301442   \n",
       "1  0.01929  19.085       1  0.458359  0.819521 -4.075192  0.335590  2.486855   \n",
       "2  0.01309  20.651       1  0.429895  0.825288 -4.443179  0.311173  2.342259   \n",
       "3  0.01353  20.644       1  0.434969  0.819235 -4.117501  0.334147  2.405554   \n",
       "4  0.01767  19.649       1  0.417356  0.823484 -3.747787  0.234513  2.332180   \n",
       "5  0.01222  21.378       1  0.415564  0.825069 -4.242867  0.299111  2.187560   \n",
       "6  0.00607  24.886       1  0.596040  0.764112 -5.634322  0.257682  1.854785   \n",
       "7  0.00344  26.892       1  0.637420  0.763262 -6.167603  0.183721  2.064693   \n",
       "8  0.01070  21.812       1  0.615551  0.773587 -5.498678  0.327769  2.322511   \n",
       "9  0.01022  21.862       1  0.547037  0.798463 -5.011879  0.325996  2.432792   \n",
       "\n",
       "        PPE  \n",
       "0  0.284654  \n",
       "1  0.368674  \n",
       "2  0.332634  \n",
       "3  0.368975  \n",
       "4  0.410335  \n",
       "5  0.357775  \n",
       "6  0.211756  \n",
       "7  0.163755  \n",
       "8  0.231571  \n",
       "9  0.271362  "
      ]
     },
     "execution_count": 2,
     "metadata": {},
     "output_type": "execute_result"
    }
   ],
   "source": [
    "raw_data = pd.read_csv('data/Parkinsson disease.csv')\n",
    "raw_data.head(10)"
   ]
  },
  {
   "cell_type": "markdown",
   "id": "fe6d4372",
   "metadata": {
    "papermill": {
     "duration": 0.013421,
     "end_time": "2024-07-06T07:49:56.211846",
     "exception": false,
     "start_time": "2024-07-06T07:49:56.198425",
     "status": "completed"
    },
    "tags": []
   },
   "source": [
    "**Generate descriptive statistics of the raw_data DataFrame**"
   ]
  },
  {
   "cell_type": "code",
   "execution_count": 3,
   "id": "5e44eebd",
   "metadata": {
    "papermill": {
     "duration": 0.098353,
     "end_time": "2024-07-06T07:49:56.323294",
     "exception": false,
     "start_time": "2024-07-06T07:49:56.224941",
     "status": "completed"
    },
    "tags": []
   },
   "outputs": [
    {
     "data": {
      "text/html": [
       "<div>\n",
       "<style scoped>\n",
       "    .dataframe tbody tr th:only-of-type {\n",
       "        vertical-align: middle;\n",
       "    }\n",
       "\n",
       "    .dataframe tbody tr th {\n",
       "        vertical-align: top;\n",
       "    }\n",
       "\n",
       "    .dataframe thead th {\n",
       "        text-align: right;\n",
       "    }\n",
       "</style>\n",
       "<table border=\"1\" class=\"dataframe\">\n",
       "  <thead>\n",
       "    <tr style=\"text-align: right;\">\n",
       "      <th></th>\n",
       "      <th>MDVP:Fo(Hz)</th>\n",
       "      <th>MDVP:Fhi(Hz)</th>\n",
       "      <th>MDVP:Flo(Hz)</th>\n",
       "      <th>MDVP:Jitter(%)</th>\n",
       "      <th>MDVP:Jitter(Abs)</th>\n",
       "      <th>MDVP:RAP</th>\n",
       "      <th>MDVP:PPQ</th>\n",
       "      <th>Jitter:DDP</th>\n",
       "      <th>MDVP:Shimmer</th>\n",
       "      <th>MDVP:Shimmer(dB)</th>\n",
       "      <th>Shimmer:APQ3</th>\n",
       "      <th>Shimmer:APQ5</th>\n",
       "      <th>MDVP:APQ</th>\n",
       "      <th>Shimmer:DDA</th>\n",
       "      <th>NHR</th>\n",
       "      <th>HNR</th>\n",
       "      <th>status</th>\n",
       "      <th>RPDE</th>\n",
       "      <th>DFA</th>\n",
       "      <th>spread1</th>\n",
       "      <th>spread2</th>\n",
       "      <th>D2</th>\n",
       "      <th>PPE</th>\n",
       "    </tr>\n",
       "  </thead>\n",
       "  <tbody>\n",
       "    <tr>\n",
       "      <th>count</th>\n",
       "      <td>195.000000</td>\n",
       "      <td>195.000000</td>\n",
       "      <td>195.000000</td>\n",
       "      <td>195.000000</td>\n",
       "      <td>195.000000</td>\n",
       "      <td>195.000000</td>\n",
       "      <td>195.000000</td>\n",
       "      <td>195.000000</td>\n",
       "      <td>195.000000</td>\n",
       "      <td>195.000000</td>\n",
       "      <td>195.000000</td>\n",
       "      <td>195.000000</td>\n",
       "      <td>195.000000</td>\n",
       "      <td>195.000000</td>\n",
       "      <td>195.000000</td>\n",
       "      <td>195.000000</td>\n",
       "      <td>195.000000</td>\n",
       "      <td>195.000000</td>\n",
       "      <td>195.000000</td>\n",
       "      <td>195.000000</td>\n",
       "      <td>195.000000</td>\n",
       "      <td>195.000000</td>\n",
       "      <td>195.000000</td>\n",
       "    </tr>\n",
       "    <tr>\n",
       "      <th>mean</th>\n",
       "      <td>154.228641</td>\n",
       "      <td>197.104918</td>\n",
       "      <td>116.324631</td>\n",
       "      <td>0.006220</td>\n",
       "      <td>0.000044</td>\n",
       "      <td>0.003306</td>\n",
       "      <td>0.003446</td>\n",
       "      <td>0.009920</td>\n",
       "      <td>0.029709</td>\n",
       "      <td>0.282251</td>\n",
       "      <td>0.015664</td>\n",
       "      <td>0.017878</td>\n",
       "      <td>0.024081</td>\n",
       "      <td>0.046993</td>\n",
       "      <td>0.024847</td>\n",
       "      <td>21.885974</td>\n",
       "      <td>0.753846</td>\n",
       "      <td>0.498536</td>\n",
       "      <td>0.718099</td>\n",
       "      <td>-5.684397</td>\n",
       "      <td>0.226510</td>\n",
       "      <td>2.381826</td>\n",
       "      <td>0.206552</td>\n",
       "    </tr>\n",
       "    <tr>\n",
       "      <th>std</th>\n",
       "      <td>41.390065</td>\n",
       "      <td>91.491548</td>\n",
       "      <td>43.521413</td>\n",
       "      <td>0.004848</td>\n",
       "      <td>0.000035</td>\n",
       "      <td>0.002968</td>\n",
       "      <td>0.002759</td>\n",
       "      <td>0.008903</td>\n",
       "      <td>0.018857</td>\n",
       "      <td>0.194877</td>\n",
       "      <td>0.010153</td>\n",
       "      <td>0.012024</td>\n",
       "      <td>0.016947</td>\n",
       "      <td>0.030459</td>\n",
       "      <td>0.040418</td>\n",
       "      <td>4.425764</td>\n",
       "      <td>0.431878</td>\n",
       "      <td>0.103942</td>\n",
       "      <td>0.055336</td>\n",
       "      <td>1.090208</td>\n",
       "      <td>0.083406</td>\n",
       "      <td>0.382799</td>\n",
       "      <td>0.090119</td>\n",
       "    </tr>\n",
       "    <tr>\n",
       "      <th>min</th>\n",
       "      <td>88.333000</td>\n",
       "      <td>102.145000</td>\n",
       "      <td>65.476000</td>\n",
       "      <td>0.001680</td>\n",
       "      <td>0.000007</td>\n",
       "      <td>0.000680</td>\n",
       "      <td>0.000920</td>\n",
       "      <td>0.002040</td>\n",
       "      <td>0.009540</td>\n",
       "      <td>0.085000</td>\n",
       "      <td>0.004550</td>\n",
       "      <td>0.005700</td>\n",
       "      <td>0.007190</td>\n",
       "      <td>0.013640</td>\n",
       "      <td>0.000650</td>\n",
       "      <td>8.441000</td>\n",
       "      <td>0.000000</td>\n",
       "      <td>0.256570</td>\n",
       "      <td>0.574282</td>\n",
       "      <td>-7.964984</td>\n",
       "      <td>0.006274</td>\n",
       "      <td>1.423287</td>\n",
       "      <td>0.044539</td>\n",
       "    </tr>\n",
       "    <tr>\n",
       "      <th>25%</th>\n",
       "      <td>117.572000</td>\n",
       "      <td>134.862500</td>\n",
       "      <td>84.291000</td>\n",
       "      <td>0.003460</td>\n",
       "      <td>0.000020</td>\n",
       "      <td>0.001660</td>\n",
       "      <td>0.001860</td>\n",
       "      <td>0.004985</td>\n",
       "      <td>0.016505</td>\n",
       "      <td>0.148500</td>\n",
       "      <td>0.008245</td>\n",
       "      <td>0.009580</td>\n",
       "      <td>0.013080</td>\n",
       "      <td>0.024735</td>\n",
       "      <td>0.005925</td>\n",
       "      <td>19.198000</td>\n",
       "      <td>1.000000</td>\n",
       "      <td>0.421306</td>\n",
       "      <td>0.674758</td>\n",
       "      <td>-6.450096</td>\n",
       "      <td>0.174351</td>\n",
       "      <td>2.099125</td>\n",
       "      <td>0.137451</td>\n",
       "    </tr>\n",
       "    <tr>\n",
       "      <th>50%</th>\n",
       "      <td>148.790000</td>\n",
       "      <td>175.829000</td>\n",
       "      <td>104.315000</td>\n",
       "      <td>0.004940</td>\n",
       "      <td>0.000030</td>\n",
       "      <td>0.002500</td>\n",
       "      <td>0.002690</td>\n",
       "      <td>0.007490</td>\n",
       "      <td>0.022970</td>\n",
       "      <td>0.221000</td>\n",
       "      <td>0.012790</td>\n",
       "      <td>0.013470</td>\n",
       "      <td>0.018260</td>\n",
       "      <td>0.038360</td>\n",
       "      <td>0.011660</td>\n",
       "      <td>22.085000</td>\n",
       "      <td>1.000000</td>\n",
       "      <td>0.495954</td>\n",
       "      <td>0.722254</td>\n",
       "      <td>-5.720868</td>\n",
       "      <td>0.218885</td>\n",
       "      <td>2.361532</td>\n",
       "      <td>0.194052</td>\n",
       "    </tr>\n",
       "    <tr>\n",
       "      <th>75%</th>\n",
       "      <td>182.769000</td>\n",
       "      <td>224.205500</td>\n",
       "      <td>140.018500</td>\n",
       "      <td>0.007365</td>\n",
       "      <td>0.000060</td>\n",
       "      <td>0.003835</td>\n",
       "      <td>0.003955</td>\n",
       "      <td>0.011505</td>\n",
       "      <td>0.037885</td>\n",
       "      <td>0.350000</td>\n",
       "      <td>0.020265</td>\n",
       "      <td>0.022380</td>\n",
       "      <td>0.029400</td>\n",
       "      <td>0.060795</td>\n",
       "      <td>0.025640</td>\n",
       "      <td>25.075500</td>\n",
       "      <td>1.000000</td>\n",
       "      <td>0.587562</td>\n",
       "      <td>0.761881</td>\n",
       "      <td>-5.046192</td>\n",
       "      <td>0.279234</td>\n",
       "      <td>2.636456</td>\n",
       "      <td>0.252980</td>\n",
       "    </tr>\n",
       "    <tr>\n",
       "      <th>max</th>\n",
       "      <td>260.105000</td>\n",
       "      <td>592.030000</td>\n",
       "      <td>239.170000</td>\n",
       "      <td>0.033160</td>\n",
       "      <td>0.000260</td>\n",
       "      <td>0.021440</td>\n",
       "      <td>0.019580</td>\n",
       "      <td>0.064330</td>\n",
       "      <td>0.119080</td>\n",
       "      <td>1.302000</td>\n",
       "      <td>0.056470</td>\n",
       "      <td>0.079400</td>\n",
       "      <td>0.137780</td>\n",
       "      <td>0.169420</td>\n",
       "      <td>0.314820</td>\n",
       "      <td>33.047000</td>\n",
       "      <td>1.000000</td>\n",
       "      <td>0.685151</td>\n",
       "      <td>0.825288</td>\n",
       "      <td>-2.434031</td>\n",
       "      <td>0.450493</td>\n",
       "      <td>3.671155</td>\n",
       "      <td>0.527367</td>\n",
       "    </tr>\n",
       "  </tbody>\n",
       "</table>\n",
       "</div>"
      ],
      "text/plain": [
       "       MDVP:Fo(Hz)  MDVP:Fhi(Hz)  MDVP:Flo(Hz)  MDVP:Jitter(%)  \\\n",
       "count   195.000000    195.000000    195.000000      195.000000   \n",
       "mean    154.228641    197.104918    116.324631        0.006220   \n",
       "std      41.390065     91.491548     43.521413        0.004848   \n",
       "min      88.333000    102.145000     65.476000        0.001680   \n",
       "25%     117.572000    134.862500     84.291000        0.003460   \n",
       "50%     148.790000    175.829000    104.315000        0.004940   \n",
       "75%     182.769000    224.205500    140.018500        0.007365   \n",
       "max     260.105000    592.030000    239.170000        0.033160   \n",
       "\n",
       "       MDVP:Jitter(Abs)    MDVP:RAP    MDVP:PPQ  Jitter:DDP  MDVP:Shimmer  \\\n",
       "count        195.000000  195.000000  195.000000  195.000000    195.000000   \n",
       "mean           0.000044    0.003306    0.003446    0.009920      0.029709   \n",
       "std            0.000035    0.002968    0.002759    0.008903      0.018857   \n",
       "min            0.000007    0.000680    0.000920    0.002040      0.009540   \n",
       "25%            0.000020    0.001660    0.001860    0.004985      0.016505   \n",
       "50%            0.000030    0.002500    0.002690    0.007490      0.022970   \n",
       "75%            0.000060    0.003835    0.003955    0.011505      0.037885   \n",
       "max            0.000260    0.021440    0.019580    0.064330      0.119080   \n",
       "\n",
       "       MDVP:Shimmer(dB)  Shimmer:APQ3  Shimmer:APQ5    MDVP:APQ  Shimmer:DDA  \\\n",
       "count        195.000000    195.000000    195.000000  195.000000   195.000000   \n",
       "mean           0.282251      0.015664      0.017878    0.024081     0.046993   \n",
       "std            0.194877      0.010153      0.012024    0.016947     0.030459   \n",
       "min            0.085000      0.004550      0.005700    0.007190     0.013640   \n",
       "25%            0.148500      0.008245      0.009580    0.013080     0.024735   \n",
       "50%            0.221000      0.012790      0.013470    0.018260     0.038360   \n",
       "75%            0.350000      0.020265      0.022380    0.029400     0.060795   \n",
       "max            1.302000      0.056470      0.079400    0.137780     0.169420   \n",
       "\n",
       "              NHR         HNR      status        RPDE         DFA     spread1  \\\n",
       "count  195.000000  195.000000  195.000000  195.000000  195.000000  195.000000   \n",
       "mean     0.024847   21.885974    0.753846    0.498536    0.718099   -5.684397   \n",
       "std      0.040418    4.425764    0.431878    0.103942    0.055336    1.090208   \n",
       "min      0.000650    8.441000    0.000000    0.256570    0.574282   -7.964984   \n",
       "25%      0.005925   19.198000    1.000000    0.421306    0.674758   -6.450096   \n",
       "50%      0.011660   22.085000    1.000000    0.495954    0.722254   -5.720868   \n",
       "75%      0.025640   25.075500    1.000000    0.587562    0.761881   -5.046192   \n",
       "max      0.314820   33.047000    1.000000    0.685151    0.825288   -2.434031   \n",
       "\n",
       "          spread2          D2         PPE  \n",
       "count  195.000000  195.000000  195.000000  \n",
       "mean     0.226510    2.381826    0.206552  \n",
       "std      0.083406    0.382799    0.090119  \n",
       "min      0.006274    1.423287    0.044539  \n",
       "25%      0.174351    2.099125    0.137451  \n",
       "50%      0.218885    2.361532    0.194052  \n",
       "75%      0.279234    2.636456    0.252980  \n",
       "max      0.450493    3.671155    0.527367  "
      ]
     },
     "execution_count": 3,
     "metadata": {},
     "output_type": "execute_result"
    }
   ],
   "source": [
    "raw_data.describe()"
   ]
  },
  {
   "cell_type": "code",
   "execution_count": 4,
   "id": "0b8dc78a",
   "metadata": {
    "papermill": {
     "duration": 0.044025,
     "end_time": "2024-07-06T07:49:56.381613",
     "exception": false,
     "start_time": "2024-07-06T07:49:56.337588",
     "status": "completed"
    },
    "tags": []
   },
   "outputs": [
    {
     "name": "stdout",
     "output_type": "stream",
     "text": [
      "<class 'pandas.core.frame.DataFrame'>\n",
      "RangeIndex: 195 entries, 0 to 194\n",
      "Data columns (total 24 columns):\n",
      " #   Column            Non-Null Count  Dtype  \n",
      "---  ------            --------------  -----  \n",
      " 0   name              195 non-null    object \n",
      " 1   MDVP:Fo(Hz)       195 non-null    float64\n",
      " 2   MDVP:Fhi(Hz)      195 non-null    float64\n",
      " 3   MDVP:Flo(Hz)      195 non-null    float64\n",
      " 4   MDVP:Jitter(%)    195 non-null    float64\n",
      " 5   MDVP:Jitter(Abs)  195 non-null    float64\n",
      " 6   MDVP:RAP          195 non-null    float64\n",
      " 7   MDVP:PPQ          195 non-null    float64\n",
      " 8   Jitter:DDP        195 non-null    float64\n",
      " 9   MDVP:Shimmer      195 non-null    float64\n",
      " 10  MDVP:Shimmer(dB)  195 non-null    float64\n",
      " 11  Shimmer:APQ3      195 non-null    float64\n",
      " 12  Shimmer:APQ5      195 non-null    float64\n",
      " 13  MDVP:APQ          195 non-null    float64\n",
      " 14  Shimmer:DDA       195 non-null    float64\n",
      " 15  NHR               195 non-null    float64\n",
      " 16  HNR               195 non-null    float64\n",
      " 17  status            195 non-null    int64  \n",
      " 18  RPDE              195 non-null    float64\n",
      " 19  DFA               195 non-null    float64\n",
      " 20  spread1           195 non-null    float64\n",
      " 21  spread2           195 non-null    float64\n",
      " 22  D2                195 non-null    float64\n",
      " 23  PPE               195 non-null    float64\n",
      "dtypes: float64(22), int64(1), object(1)\n",
      "memory usage: 36.7+ KB\n"
     ]
    }
   ],
   "source": [
    "raw_data.info()"
   ]
  },
  {
   "cell_type": "code",
   "execution_count": 5,
   "id": "0cd1b86a",
   "metadata": {
    "papermill": {
     "duration": 0.026302,
     "end_time": "2024-07-06T07:49:56.421921",
     "exception": false,
     "start_time": "2024-07-06T07:49:56.395619",
     "status": "completed"
    },
    "tags": []
   },
   "outputs": [
    {
     "data": {
      "text/plain": [
       "(195, 24)"
      ]
     },
     "execution_count": 5,
     "metadata": {},
     "output_type": "execute_result"
    }
   ],
   "source": [
    "raw_data.shape"
   ]
  },
  {
   "cell_type": "markdown",
   "id": "e31ab522",
   "metadata": {
    "papermill": {
     "duration": 0.013855,
     "end_time": "2024-07-06T07:49:56.449841",
     "exception": false,
     "start_time": "2024-07-06T07:49:56.435986",
     "status": "completed"
    },
    "tags": []
   },
   "source": [
    "**Checking unique values in 'status' column**"
   ]
  },
  {
   "cell_type": "code",
   "execution_count": 6,
   "id": "4c6a7f88",
   "metadata": {
    "papermill": {
     "duration": 0.02942,
     "end_time": "2024-07-06T07:49:56.493367",
     "exception": false,
     "start_time": "2024-07-06T07:49:56.463947",
     "status": "completed"
    },
    "tags": []
   },
   "outputs": [
    {
     "data": {
      "text/plain": [
       "status\n",
       "1    147\n",
       "0     48\n",
       "Name: count, dtype: int64"
      ]
     },
     "execution_count": 6,
     "metadata": {},
     "output_type": "execute_result"
    }
   ],
   "source": [
    "raw_data['status'].value_counts()"
   ]
  },
  {
   "cell_type": "markdown",
   "id": "0582f2a2",
   "metadata": {
    "papermill": {
     "duration": 0.014199,
     "end_time": "2024-07-06T07:49:56.521827",
     "exception": false,
     "start_time": "2024-07-06T07:49:56.507628",
     "status": "completed"
    },
    "tags": []
   },
   "source": [
    "**Removing 'name' column for raw_data dataframe.**"
   ]
  },
  {
   "cell_type": "code",
   "execution_count": 7,
   "id": "8dc8406c",
   "metadata": {
    "papermill": {
     "duration": 0.026614,
     "end_time": "2024-07-06T07:49:56.562704",
     "exception": false,
     "start_time": "2024-07-06T07:49:56.536090",
     "status": "completed"
    },
    "tags": []
   },
   "outputs": [],
   "source": [
    "df = raw_data.drop(['name'], axis=1)"
   ]
  },
  {
   "cell_type": "code",
   "execution_count": 8,
   "id": "4b49ee97",
   "metadata": {
    "papermill": {
     "duration": 0.046883,
     "end_time": "2024-07-06T07:49:56.624514",
     "exception": false,
     "start_time": "2024-07-06T07:49:56.577631",
     "status": "completed"
    },
    "tags": []
   },
   "outputs": [
    {
     "data": {
      "text/html": [
       "<div>\n",
       "<style scoped>\n",
       "    .dataframe tbody tr th:only-of-type {\n",
       "        vertical-align: middle;\n",
       "    }\n",
       "\n",
       "    .dataframe tbody tr th {\n",
       "        vertical-align: top;\n",
       "    }\n",
       "\n",
       "    .dataframe thead th {\n",
       "        text-align: right;\n",
       "    }\n",
       "</style>\n",
       "<table border=\"1\" class=\"dataframe\">\n",
       "  <thead>\n",
       "    <tr style=\"text-align: right;\">\n",
       "      <th></th>\n",
       "      <th>MDVP:Fo(Hz)</th>\n",
       "      <th>MDVP:Fhi(Hz)</th>\n",
       "      <th>MDVP:Flo(Hz)</th>\n",
       "      <th>MDVP:Jitter(%)</th>\n",
       "      <th>MDVP:Jitter(Abs)</th>\n",
       "      <th>MDVP:RAP</th>\n",
       "      <th>MDVP:PPQ</th>\n",
       "      <th>Jitter:DDP</th>\n",
       "      <th>MDVP:Shimmer</th>\n",
       "      <th>MDVP:Shimmer(dB)</th>\n",
       "      <th>Shimmer:APQ3</th>\n",
       "      <th>Shimmer:APQ5</th>\n",
       "      <th>MDVP:APQ</th>\n",
       "      <th>Shimmer:DDA</th>\n",
       "      <th>NHR</th>\n",
       "      <th>HNR</th>\n",
       "      <th>RPDE</th>\n",
       "      <th>DFA</th>\n",
       "      <th>spread1</th>\n",
       "      <th>spread2</th>\n",
       "      <th>D2</th>\n",
       "      <th>PPE</th>\n",
       "    </tr>\n",
       "    <tr>\n",
       "      <th>status</th>\n",
       "      <th></th>\n",
       "      <th></th>\n",
       "      <th></th>\n",
       "      <th></th>\n",
       "      <th></th>\n",
       "      <th></th>\n",
       "      <th></th>\n",
       "      <th></th>\n",
       "      <th></th>\n",
       "      <th></th>\n",
       "      <th></th>\n",
       "      <th></th>\n",
       "      <th></th>\n",
       "      <th></th>\n",
       "      <th></th>\n",
       "      <th></th>\n",
       "      <th></th>\n",
       "      <th></th>\n",
       "      <th></th>\n",
       "      <th></th>\n",
       "      <th></th>\n",
       "      <th></th>\n",
       "    </tr>\n",
       "  </thead>\n",
       "  <tbody>\n",
       "    <tr>\n",
       "      <th>0</th>\n",
       "      <td>181.937771</td>\n",
       "      <td>223.636750</td>\n",
       "      <td>145.207292</td>\n",
       "      <td>0.003866</td>\n",
       "      <td>0.000023</td>\n",
       "      <td>0.001925</td>\n",
       "      <td>0.002056</td>\n",
       "      <td>0.005776</td>\n",
       "      <td>0.017615</td>\n",
       "      <td>0.162958</td>\n",
       "      <td>0.009504</td>\n",
       "      <td>0.010509</td>\n",
       "      <td>0.013305</td>\n",
       "      <td>0.028511</td>\n",
       "      <td>0.011483</td>\n",
       "      <td>24.678750</td>\n",
       "      <td>0.442552</td>\n",
       "      <td>0.695716</td>\n",
       "      <td>-6.759264</td>\n",
       "      <td>0.160292</td>\n",
       "      <td>2.154491</td>\n",
       "      <td>0.123017</td>\n",
       "    </tr>\n",
       "    <tr>\n",
       "      <th>1</th>\n",
       "      <td>145.180762</td>\n",
       "      <td>188.441463</td>\n",
       "      <td>106.893558</td>\n",
       "      <td>0.006989</td>\n",
       "      <td>0.000051</td>\n",
       "      <td>0.003757</td>\n",
       "      <td>0.003900</td>\n",
       "      <td>0.011273</td>\n",
       "      <td>0.033658</td>\n",
       "      <td>0.321204</td>\n",
       "      <td>0.017676</td>\n",
       "      <td>0.020285</td>\n",
       "      <td>0.027600</td>\n",
       "      <td>0.053027</td>\n",
       "      <td>0.029211</td>\n",
       "      <td>20.974048</td>\n",
       "      <td>0.516816</td>\n",
       "      <td>0.725408</td>\n",
       "      <td>-5.333420</td>\n",
       "      <td>0.248133</td>\n",
       "      <td>2.456058</td>\n",
       "      <td>0.233828</td>\n",
       "    </tr>\n",
       "  </tbody>\n",
       "</table>\n",
       "</div>"
      ],
      "text/plain": [
       "        MDVP:Fo(Hz)  MDVP:Fhi(Hz)  MDVP:Flo(Hz)  MDVP:Jitter(%)  \\\n",
       "status                                                            \n",
       "0        181.937771    223.636750    145.207292        0.003866   \n",
       "1        145.180762    188.441463    106.893558        0.006989   \n",
       "\n",
       "        MDVP:Jitter(Abs)  MDVP:RAP  MDVP:PPQ  Jitter:DDP  MDVP:Shimmer  \\\n",
       "status                                                                   \n",
       "0               0.000023  0.001925  0.002056    0.005776      0.017615   \n",
       "1               0.000051  0.003757  0.003900    0.011273      0.033658   \n",
       "\n",
       "        MDVP:Shimmer(dB)  Shimmer:APQ3  Shimmer:APQ5  MDVP:APQ  Shimmer:DDA  \\\n",
       "status                                                                        \n",
       "0               0.162958      0.009504      0.010509  0.013305     0.028511   \n",
       "1               0.321204      0.017676      0.020285  0.027600     0.053027   \n",
       "\n",
       "             NHR        HNR      RPDE       DFA   spread1   spread2        D2  \\\n",
       "status                                                                          \n",
       "0       0.011483  24.678750  0.442552  0.695716 -6.759264  0.160292  2.154491   \n",
       "1       0.029211  20.974048  0.516816  0.725408 -5.333420  0.248133  2.456058   \n",
       "\n",
       "             PPE  \n",
       "status            \n",
       "0       0.123017  \n",
       "1       0.233828  "
      ]
     },
     "execution_count": 8,
     "metadata": {},
     "output_type": "execute_result"
    }
   ],
   "source": [
    "# Group by 'status' and calculate mean\n",
    "grouped_data = df.groupby(['status']).mean()\n",
    "grouped_data"
   ]
  },
  {
   "cell_type": "markdown",
   "id": "44164d9f",
   "metadata": {
    "papermill": {
     "duration": 0.01457,
     "end_time": "2024-07-06T07:49:56.653634",
     "exception": false,
     "start_time": "2024-07-06T07:49:56.639064",
     "status": "completed"
    },
    "tags": []
   },
   "source": [
    "**Scaling the data using StandardScaler**"
   ]
  },
  {
   "cell_type": "code",
   "execution_count": 9,
   "id": "4ff7336d",
   "metadata": {
    "papermill": {
     "duration": 0.03187,
     "end_time": "2024-07-06T07:49:56.700018",
     "exception": false,
     "start_time": "2024-07-06T07:49:56.668148",
     "status": "completed"
    },
    "tags": []
   },
   "outputs": [],
   "source": [
    "scaler = StandardScaler()\n",
    "\n",
    "X = df.drop(['status'], axis=1)\n",
    "X = scaler.fit_transform(X)\n",
    "\n",
    "y = df['status']"
   ]
  },
  {
   "cell_type": "markdown",
   "id": "c34469ee",
   "metadata": {
    "papermill": {
     "duration": 0.015176,
     "end_time": "2024-07-06T07:49:56.729802",
     "exception": false,
     "start_time": "2024-07-06T07:49:56.714626",
     "status": "completed"
    },
    "tags": []
   },
   "source": [
    "**Dividing data to train and test.**"
   ]
  },
  {
   "cell_type": "code",
   "execution_count": 10,
   "id": "a09ed98d",
   "metadata": {
    "papermill": {
     "duration": 0.028235,
     "end_time": "2024-07-06T07:49:56.772589",
     "exception": false,
     "start_time": "2024-07-06T07:49:56.744354",
     "status": "completed"
    },
    "tags": []
   },
   "outputs": [],
   "source": [
    "train_x, test_x, train_y, test_y = train_test_split(X, y, test_size=0.2, random_state=42)"
   ]
  },
  {
   "cell_type": "code",
   "execution_count": 11,
   "id": "abd1bc23",
   "metadata": {
    "papermill": {
     "duration": 0.02579,
     "end_time": "2024-07-06T07:49:56.812843",
     "exception": false,
     "start_time": "2024-07-06T07:49:56.787053",
     "status": "completed"
    },
    "tags": []
   },
   "outputs": [
    {
     "name": "stdout",
     "output_type": "stream",
     "text": [
      "(156, 22) (39, 22) (156,) (39,)\n"
     ]
    }
   ],
   "source": [
    "print(train_x.shape, test_x.shape, train_y.shape, test_y.shape)"
   ]
  },
  {
   "cell_type": "markdown",
   "id": "f10bae14",
   "metadata": {
    "papermill": {
     "duration": 0.015213,
     "end_time": "2024-07-06T07:49:56.843280",
     "exception": false,
     "start_time": "2024-07-06T07:49:56.828067",
     "status": "completed"
    },
    "tags": []
   },
   "source": [
    "**Create a Logistic regression model instance and train it on training data.**"
   ]
  },
  {
   "cell_type": "code",
   "execution_count": 12,
   "id": "b5f3d095",
   "metadata": {
    "papermill": {
     "duration": 0.046362,
     "end_time": "2024-07-06T07:49:56.904741",
     "exception": false,
     "start_time": "2024-07-06T07:49:56.858379",
     "status": "completed"
    },
    "tags": []
   },
   "outputs": [
    {
     "data": {
      "text/html": [
       "<style>#sk-container-id-1 {color: black;}#sk-container-id-1 pre{padding: 0;}#sk-container-id-1 div.sk-toggleable {background-color: white;}#sk-container-id-1 label.sk-toggleable__label {cursor: pointer;display: block;width: 100%;margin-bottom: 0;padding: 0.3em;box-sizing: border-box;text-align: center;}#sk-container-id-1 label.sk-toggleable__label-arrow:before {content: \"▸\";float: left;margin-right: 0.25em;color: #696969;}#sk-container-id-1 label.sk-toggleable__label-arrow:hover:before {color: black;}#sk-container-id-1 div.sk-estimator:hover label.sk-toggleable__label-arrow:before {color: black;}#sk-container-id-1 div.sk-toggleable__content {max-height: 0;max-width: 0;overflow: hidden;text-align: left;background-color: #f0f8ff;}#sk-container-id-1 div.sk-toggleable__content pre {margin: 0.2em;color: black;border-radius: 0.25em;background-color: #f0f8ff;}#sk-container-id-1 input.sk-toggleable__control:checked~div.sk-toggleable__content {max-height: 200px;max-width: 100%;overflow: auto;}#sk-container-id-1 input.sk-toggleable__control:checked~label.sk-toggleable__label-arrow:before {content: \"▾\";}#sk-container-id-1 div.sk-estimator input.sk-toggleable__control:checked~label.sk-toggleable__label {background-color: #d4ebff;}#sk-container-id-1 div.sk-label input.sk-toggleable__control:checked~label.sk-toggleable__label {background-color: #d4ebff;}#sk-container-id-1 input.sk-hidden--visually {border: 0;clip: rect(1px 1px 1px 1px);clip: rect(1px, 1px, 1px, 1px);height: 1px;margin: -1px;overflow: hidden;padding: 0;position: absolute;width: 1px;}#sk-container-id-1 div.sk-estimator {font-family: monospace;background-color: #f0f8ff;border: 1px dotted black;border-radius: 0.25em;box-sizing: border-box;margin-bottom: 0.5em;}#sk-container-id-1 div.sk-estimator:hover {background-color: #d4ebff;}#sk-container-id-1 div.sk-parallel-item::after {content: \"\";width: 100%;border-bottom: 1px solid gray;flex-grow: 1;}#sk-container-id-1 div.sk-label:hover label.sk-toggleable__label {background-color: #d4ebff;}#sk-container-id-1 div.sk-serial::before {content: \"\";position: absolute;border-left: 1px solid gray;box-sizing: border-box;top: 0;bottom: 0;left: 50%;z-index: 0;}#sk-container-id-1 div.sk-serial {display: flex;flex-direction: column;align-items: center;background-color: white;padding-right: 0.2em;padding-left: 0.2em;position: relative;}#sk-container-id-1 div.sk-item {position: relative;z-index: 1;}#sk-container-id-1 div.sk-parallel {display: flex;align-items: stretch;justify-content: center;background-color: white;position: relative;}#sk-container-id-1 div.sk-item::before, #sk-container-id-1 div.sk-parallel-item::before {content: \"\";position: absolute;border-left: 1px solid gray;box-sizing: border-box;top: 0;bottom: 0;left: 50%;z-index: -1;}#sk-container-id-1 div.sk-parallel-item {display: flex;flex-direction: column;z-index: 1;position: relative;background-color: white;}#sk-container-id-1 div.sk-parallel-item:first-child::after {align-self: flex-end;width: 50%;}#sk-container-id-1 div.sk-parallel-item:last-child::after {align-self: flex-start;width: 50%;}#sk-container-id-1 div.sk-parallel-item:only-child::after {width: 0;}#sk-container-id-1 div.sk-dashed-wrapped {border: 1px dashed gray;margin: 0 0.4em 0.5em 0.4em;box-sizing: border-box;padding-bottom: 0.4em;background-color: white;}#sk-container-id-1 div.sk-label label {font-family: monospace;font-weight: bold;display: inline-block;line-height: 1.2em;}#sk-container-id-1 div.sk-label-container {text-align: center;}#sk-container-id-1 div.sk-container {/* jupyter's `normalize.less` sets `[hidden] { display: none; }` but bootstrap.min.css set `[hidden] { display: none !important; }` so we also need the `!important` here to be able to override the default hidden behavior on the sphinx rendered scikit-learn.org. See: https://github.com/scikit-learn/scikit-learn/issues/21755 */display: inline-block !important;position: relative;}#sk-container-id-1 div.sk-text-repr-fallback {display: none;}</style><div id=\"sk-container-id-1\" class=\"sk-top-container\"><div class=\"sk-text-repr-fallback\"><pre>LogisticRegression()</pre><b>In a Jupyter environment, please rerun this cell to show the HTML representation or trust the notebook. <br />On GitHub, the HTML representation is unable to render, please try loading this page with nbviewer.org.</b></div><div class=\"sk-container\" hidden><div class=\"sk-item\"><div class=\"sk-estimator sk-toggleable\"><input class=\"sk-toggleable__control sk-hidden--visually\" id=\"sk-estimator-id-1\" type=\"checkbox\" checked><label for=\"sk-estimator-id-1\" class=\"sk-toggleable__label sk-toggleable__label-arrow\">LogisticRegression</label><div class=\"sk-toggleable__content\"><pre>LogisticRegression()</pre></div></div></div></div></div>"
      ],
      "text/plain": [
       "LogisticRegression()"
      ]
     },
     "execution_count": 12,
     "metadata": {},
     "output_type": "execute_result"
    }
   ],
   "source": [
    "reg = LogisticRegression()\n",
    "\n",
    "reg.fit(train_x, train_y)"
   ]
  },
  {
   "cell_type": "markdown",
   "id": "7439d8f6",
   "metadata": {
    "papermill": {
     "duration": 0.014959,
     "end_time": "2024-07-06T07:49:56.934896",
     "exception": false,
     "start_time": "2024-07-06T07:49:56.919937",
     "status": "completed"
    },
    "tags": []
   },
   "source": [
    "**Accuracy of model on training data.**"
   ]
  },
  {
   "cell_type": "code",
   "execution_count": 13,
   "id": "4d90c466",
   "metadata": {
    "papermill": {
     "duration": 0.029852,
     "end_time": "2024-07-06T07:49:56.979713",
     "exception": false,
     "start_time": "2024-07-06T07:49:56.949861",
     "status": "completed"
    },
    "tags": []
   },
   "outputs": [
    {
     "data": {
      "text/plain": [
       "0.8653846153846154"
      ]
     },
     "execution_count": 13,
     "metadata": {},
     "output_type": "execute_result"
    }
   ],
   "source": [
    "reg.score(train_x, train_y)"
   ]
  },
  {
   "cell_type": "markdown",
   "id": "71e00f10",
   "metadata": {
    "papermill": {
     "duration": 0.015206,
     "end_time": "2024-07-06T07:49:57.010590",
     "exception": false,
     "start_time": "2024-07-06T07:49:56.995384",
     "status": "completed"
    },
    "tags": []
   },
   "source": [
    "**Applying model on test data and calculating accuracy.**"
   ]
  },
  {
   "cell_type": "code",
   "execution_count": 14,
   "id": "ed8ceef2",
   "metadata": {
    "papermill": {
     "duration": 0.028784,
     "end_time": "2024-07-06T07:49:57.054463",
     "exception": false,
     "start_time": "2024-07-06T07:49:57.025679",
     "status": "completed"
    },
    "tags": []
   },
   "outputs": [
    {
     "name": "stdout",
     "output_type": "stream",
     "text": [
      "Test set accuracy: 0.90\n"
     ]
    }
   ],
   "source": [
    "predictions = reg.predict(test_x)\n",
    "\n",
    "reg_score_test = reg.score(test_x, test_y)\n",
    "print(f\"Test set accuracy: {reg_score_test:.2f}\")"
   ]
  },
  {
   "cell_type": "markdown",
   "id": "5506636b",
   "metadata": {
    "papermill": {
     "duration": 0.014871,
     "end_time": "2024-07-06T07:49:57.085013",
     "exception": false,
     "start_time": "2024-07-06T07:49:57.070142",
     "status": "completed"
    },
    "tags": []
   },
   "source": [
    "**SVC**"
   ]
  },
  {
   "cell_type": "code",
   "execution_count": 15,
   "id": "118d7a93",
   "metadata": {
    "papermill": {
     "duration": 0.024414,
     "end_time": "2024-07-06T07:49:57.124836",
     "exception": false,
     "start_time": "2024-07-06T07:49:57.100422",
     "status": "completed"
    },
    "tags": []
   },
   "outputs": [],
   "source": [
    "from sklearn.svm import SVC\n",
    "from sklearn.metrics import accuracy_score, confusion_matrix"
   ]
  },
  {
   "cell_type": "markdown",
   "id": "9249307c",
   "metadata": {
    "papermill": {
     "duration": 0.015128,
     "end_time": "2024-07-06T07:49:57.155065",
     "exception": false,
     "start_time": "2024-07-06T07:49:57.139937",
     "status": "completed"
    },
    "tags": []
   },
   "source": [
    "**Initialize a Support Vector Classifier (SVC) model**"
   ]
  },
  {
   "cell_type": "code",
   "execution_count": 16,
   "id": "2a5773fc",
   "metadata": {
    "papermill": {
     "duration": 0.024702,
     "end_time": "2024-07-06T07:49:57.195050",
     "exception": false,
     "start_time": "2024-07-06T07:49:57.170348",
     "status": "completed"
    },
    "tags": []
   },
   "outputs": [],
   "source": [
    "model = SVC()"
   ]
  },
  {
   "cell_type": "markdown",
   "id": "18a78dfb",
   "metadata": {
    "papermill": {
     "duration": 0.01508,
     "end_time": "2024-07-06T07:49:57.225933",
     "exception": false,
     "start_time": "2024-07-06T07:49:57.210853",
     "status": "completed"
    },
    "tags": []
   },
   "source": [
    "**Fit training data into the model**"
   ]
  },
  {
   "cell_type": "code",
   "execution_count": 17,
   "id": "3d0b3fab",
   "metadata": {
    "papermill": {
     "duration": 0.0311,
     "end_time": "2024-07-06T07:49:57.272324",
     "exception": false,
     "start_time": "2024-07-06T07:49:57.241224",
     "status": "completed"
    },
    "tags": []
   },
   "outputs": [
    {
     "data": {
      "text/html": [
       "<style>#sk-container-id-2 {color: black;}#sk-container-id-2 pre{padding: 0;}#sk-container-id-2 div.sk-toggleable {background-color: white;}#sk-container-id-2 label.sk-toggleable__label {cursor: pointer;display: block;width: 100%;margin-bottom: 0;padding: 0.3em;box-sizing: border-box;text-align: center;}#sk-container-id-2 label.sk-toggleable__label-arrow:before {content: \"▸\";float: left;margin-right: 0.25em;color: #696969;}#sk-container-id-2 label.sk-toggleable__label-arrow:hover:before {color: black;}#sk-container-id-2 div.sk-estimator:hover label.sk-toggleable__label-arrow:before {color: black;}#sk-container-id-2 div.sk-toggleable__content {max-height: 0;max-width: 0;overflow: hidden;text-align: left;background-color: #f0f8ff;}#sk-container-id-2 div.sk-toggleable__content pre {margin: 0.2em;color: black;border-radius: 0.25em;background-color: #f0f8ff;}#sk-container-id-2 input.sk-toggleable__control:checked~div.sk-toggleable__content {max-height: 200px;max-width: 100%;overflow: auto;}#sk-container-id-2 input.sk-toggleable__control:checked~label.sk-toggleable__label-arrow:before {content: \"▾\";}#sk-container-id-2 div.sk-estimator input.sk-toggleable__control:checked~label.sk-toggleable__label {background-color: #d4ebff;}#sk-container-id-2 div.sk-label input.sk-toggleable__control:checked~label.sk-toggleable__label {background-color: #d4ebff;}#sk-container-id-2 input.sk-hidden--visually {border: 0;clip: rect(1px 1px 1px 1px);clip: rect(1px, 1px, 1px, 1px);height: 1px;margin: -1px;overflow: hidden;padding: 0;position: absolute;width: 1px;}#sk-container-id-2 div.sk-estimator {font-family: monospace;background-color: #f0f8ff;border: 1px dotted black;border-radius: 0.25em;box-sizing: border-box;margin-bottom: 0.5em;}#sk-container-id-2 div.sk-estimator:hover {background-color: #d4ebff;}#sk-container-id-2 div.sk-parallel-item::after {content: \"\";width: 100%;border-bottom: 1px solid gray;flex-grow: 1;}#sk-container-id-2 div.sk-label:hover label.sk-toggleable__label {background-color: #d4ebff;}#sk-container-id-2 div.sk-serial::before {content: \"\";position: absolute;border-left: 1px solid gray;box-sizing: border-box;top: 0;bottom: 0;left: 50%;z-index: 0;}#sk-container-id-2 div.sk-serial {display: flex;flex-direction: column;align-items: center;background-color: white;padding-right: 0.2em;padding-left: 0.2em;position: relative;}#sk-container-id-2 div.sk-item {position: relative;z-index: 1;}#sk-container-id-2 div.sk-parallel {display: flex;align-items: stretch;justify-content: center;background-color: white;position: relative;}#sk-container-id-2 div.sk-item::before, #sk-container-id-2 div.sk-parallel-item::before {content: \"\";position: absolute;border-left: 1px solid gray;box-sizing: border-box;top: 0;bottom: 0;left: 50%;z-index: -1;}#sk-container-id-2 div.sk-parallel-item {display: flex;flex-direction: column;z-index: 1;position: relative;background-color: white;}#sk-container-id-2 div.sk-parallel-item:first-child::after {align-self: flex-end;width: 50%;}#sk-container-id-2 div.sk-parallel-item:last-child::after {align-self: flex-start;width: 50%;}#sk-container-id-2 div.sk-parallel-item:only-child::after {width: 0;}#sk-container-id-2 div.sk-dashed-wrapped {border: 1px dashed gray;margin: 0 0.4em 0.5em 0.4em;box-sizing: border-box;padding-bottom: 0.4em;background-color: white;}#sk-container-id-2 div.sk-label label {font-family: monospace;font-weight: bold;display: inline-block;line-height: 1.2em;}#sk-container-id-2 div.sk-label-container {text-align: center;}#sk-container-id-2 div.sk-container {/* jupyter's `normalize.less` sets `[hidden] { display: none; }` but bootstrap.min.css set `[hidden] { display: none !important; }` so we also need the `!important` here to be able to override the default hidden behavior on the sphinx rendered scikit-learn.org. See: https://github.com/scikit-learn/scikit-learn/issues/21755 */display: inline-block !important;position: relative;}#sk-container-id-2 div.sk-text-repr-fallback {display: none;}</style><div id=\"sk-container-id-2\" class=\"sk-top-container\"><div class=\"sk-text-repr-fallback\"><pre>SVC()</pre><b>In a Jupyter environment, please rerun this cell to show the HTML representation or trust the notebook. <br />On GitHub, the HTML representation is unable to render, please try loading this page with nbviewer.org.</b></div><div class=\"sk-container\" hidden><div class=\"sk-item\"><div class=\"sk-estimator sk-toggleable\"><input class=\"sk-toggleable__control sk-hidden--visually\" id=\"sk-estimator-id-2\" type=\"checkbox\" checked><label for=\"sk-estimator-id-2\" class=\"sk-toggleable__label sk-toggleable__label-arrow\">SVC</label><div class=\"sk-toggleable__content\"><pre>SVC()</pre></div></div></div></div></div>"
      ],
      "text/plain": [
       "SVC()"
      ]
     },
     "execution_count": 17,
     "metadata": {},
     "output_type": "execute_result"
    }
   ],
   "source": [
    "model.fit(train_x, train_y)\n"
   ]
  },
  {
   "cell_type": "markdown",
   "id": "46151786",
   "metadata": {
    "papermill": {
     "duration": 0.015176,
     "end_time": "2024-07-06T07:49:57.302988",
     "exception": false,
     "start_time": "2024-07-06T07:49:57.287812",
     "status": "completed"
    },
    "tags": []
   },
   "source": [
    "**Predict on training data**"
   ]
  },
  {
   "cell_type": "code",
   "execution_count": 18,
   "id": "06d338b5",
   "metadata": {
    "papermill": {
     "duration": 0.027282,
     "end_time": "2024-07-06T07:49:57.345680",
     "exception": false,
     "start_time": "2024-07-06T07:49:57.318398",
     "status": "completed"
    },
    "tags": []
   },
   "outputs": [],
   "source": [
    "pred_train = model.predict(train_x)"
   ]
  },
  {
   "cell_type": "code",
   "execution_count": 19,
   "id": "eeffca9d",
   "metadata": {
    "papermill": {
     "duration": 0.0278,
     "end_time": "2024-07-06T07:49:57.389172",
     "exception": false,
     "start_time": "2024-07-06T07:49:57.361372",
     "status": "completed"
    },
    "tags": []
   },
   "outputs": [
    {
     "name": "stdout",
     "output_type": "stream",
     "text": [
      "Train set accuracy: 0.89\n"
     ]
    }
   ],
   "source": [
    "print(f\"Train set accuracy: {accuracy_score(train_y, pred_train):.2f}\")"
   ]
  },
  {
   "cell_type": "markdown",
   "id": "e081e3cf",
   "metadata": {
    "papermill": {
     "duration": 0.01532,
     "end_time": "2024-07-06T07:49:57.420243",
     "exception": false,
     "start_time": "2024-07-06T07:49:57.404923",
     "status": "completed"
    },
    "tags": []
   },
   "source": [
    "**Confusion matrix for training data**"
   ]
  },
  {
   "cell_type": "code",
   "execution_count": 20,
   "id": "23d9544b",
   "metadata": {
    "papermill": {
     "duration": 0.028917,
     "end_time": "2024-07-06T07:49:57.464765",
     "exception": false,
     "start_time": "2024-07-06T07:49:57.435848",
     "status": "completed"
    },
    "tags": []
   },
   "outputs": [
    {
     "name": "stdout",
     "output_type": "stream",
     "text": [
      "[[ 24  17]\n",
      " [  0 115]]\n"
     ]
    }
   ],
   "source": [
    "train_confusion_matrix = confusion_matrix(train_y, pred_train)\n",
    "print(train_confusion_matrix)"
   ]
  },
  {
   "cell_type": "markdown",
   "id": "04ad6e23",
   "metadata": {
    "papermill": {
     "duration": 0.015262,
     "end_time": "2024-07-06T07:49:57.496062",
     "exception": false,
     "start_time": "2024-07-06T07:49:57.480800",
     "status": "completed"
    },
    "tags": []
   },
   "source": [
    "**Predict on test data**"
   ]
  },
  {
   "cell_type": "code",
   "execution_count": 21,
   "id": "3f4cd1b5",
   "metadata": {
    "papermill": {
     "duration": 0.026298,
     "end_time": "2024-07-06T07:49:57.538002",
     "exception": false,
     "start_time": "2024-07-06T07:49:57.511704",
     "status": "completed"
    },
    "tags": []
   },
   "outputs": [],
   "source": [
    "pred_test = model.predict(test_x)"
   ]
  },
  {
   "cell_type": "markdown",
   "id": "03a8f7b0",
   "metadata": {
    "papermill": {
     "duration": 0.015427,
     "end_time": "2024-07-06T07:49:57.569312",
     "exception": false,
     "start_time": "2024-07-06T07:49:57.553885",
     "status": "completed"
    },
    "tags": []
   },
   "source": [
    "**Print testing accuracy**"
   ]
  },
  {
   "cell_type": "code",
   "execution_count": 22,
   "id": "6adbde8b",
   "metadata": {
    "papermill": {
     "duration": 0.027571,
     "end_time": "2024-07-06T07:49:57.612575",
     "exception": false,
     "start_time": "2024-07-06T07:49:57.585004",
     "status": "completed"
    },
    "tags": []
   },
   "outputs": [
    {
     "name": "stdout",
     "output_type": "stream",
     "text": [
      "Test set accuracy: 0.90\n"
     ]
    }
   ],
   "source": [
    "print(f\"Test set accuracy: {accuracy_score(test_y, pred_test):.2f}\")"
   ]
  },
  {
   "cell_type": "markdown",
   "id": "f130bcaf",
   "metadata": {
    "papermill": {
     "duration": 0.077049,
     "end_time": "2024-07-06T07:49:57.706197",
     "exception": false,
     "start_time": "2024-07-06T07:49:57.629148",
     "status": "completed"
    },
    "tags": []
   },
   "source": [
    "**Confusion matrix for testing data**"
   ]
  },
  {
   "cell_type": "code",
   "execution_count": 23,
   "id": "5ee5beb4",
   "metadata": {
    "papermill": {
     "duration": 0.031236,
     "end_time": "2024-07-06T07:49:57.753451",
     "exception": false,
     "start_time": "2024-07-06T07:49:57.722215",
     "status": "completed"
    },
    "tags": []
   },
   "outputs": [
    {
     "name": "stdout",
     "output_type": "stream",
     "text": [
      "[[ 3  4]\n",
      " [ 0 32]]\n"
     ]
    }
   ],
   "source": [
    "test_confusion_matrix = confusion_matrix(test_y, pred_test)\n",
    "print(test_confusion_matrix)"
   ]
  },
  {
   "cell_type": "markdown",
   "id": "5c98a563",
   "metadata": {
    "papermill": {
     "duration": 0.015787,
     "end_time": "2024-07-06T07:49:57.785166",
     "exception": false,
     "start_time": "2024-07-06T07:49:57.769379",
     "status": "completed"
    },
    "tags": []
   },
   "source": [
    "**Retrieve and display model coefficients**"
   ]
  },
  {
   "cell_type": "code",
   "execution_count": 24,
   "id": "d1f5b8e6",
   "metadata": {
    "papermill": {
     "duration": 0.027637,
     "end_time": "2024-07-06T07:49:57.828642",
     "exception": false,
     "start_time": "2024-07-06T07:49:57.801005",
     "status": "completed"
    },
    "tags": []
   },
   "outputs": [
    {
     "data": {
      "text/plain": [
       "array([[-0.45690093, -0.38050383, -0.13000916, -0.44071847, -0.60850635,\n",
       "         0.5677424 ,  0.05506383,  0.56650284,  0.1520105 ,  0.11306938,\n",
       "        -0.33053726,  0.38854799,  0.65513634, -0.33165466, -0.19294219,\n",
       "         0.07123881, -0.44549938,  0.10516561,  0.79357099,  0.44950196,\n",
       "         0.8270771 ,  1.13460081]])"
      ]
     },
     "execution_count": 24,
     "metadata": {},
     "output_type": "execute_result"
    }
   ],
   "source": [
    "coefficients = reg.coef_\n",
    "coefficients"
   ]
  },
  {
   "cell_type": "code",
   "execution_count": 25,
   "id": "af1fd32f",
   "metadata": {
    "papermill": {
     "duration": 0.642843,
     "end_time": "2024-07-06T07:49:58.522191",
     "exception": false,
     "start_time": "2024-07-06T07:49:57.879348",
     "status": "completed"
    },
    "tags": []
   },
   "outputs": [
    {
     "data": {
      "image/png": "[encoded data removed]",
      "text/plain": [
       "<Figure size 1000x600 with 1 Axes>"
      ]
     },
     "metadata": {},
     "output_type": "display_data"
    }
   ],
   "source": [
    "# Get the column names and corresponding coefficients\n",
    "column_names = df.columns\n",
    "coefficients = abs(reg.coef_[0])\n",
    "\n",
    "# Sort the coefficients and column names in descending order\n",
    "sorted_indices = coefficients.argsort()[::-1] # argsort returns the indices that would sort an array\n",
    "sorted_coefficients = coefficients[sorted_indices]\n",
    "sorted_column_names = column_names[sorted_indices]\n",
    "\n",
    "# Create the bar chart\n",
    "plt.figure(figsize=(10, 6))\n",
    "plt.bar(sorted_column_names, sorted_coefficients, color='blue')\n",
    "plt.xticks(rotation=90)\n",
    "plt.xlabel('Columns')\n",
    "plt.ylabel('Coefficients')\n",
    "plt.title('Coefficients of All Columns (Descending Order)', fontsize=20)\n",
    "plt.show()"
   ]
  },
  {
   "cell_type": "code",
   "execution_count": 26,
   "id": "67ca0072",
   "metadata": {},
   "outputs": [
    {
     "data": {
      "text/plain": [
       "['parkinsons_detector.pkl']"
      ]
     },
     "execution_count": 26,
     "metadata": {},
     "output_type": "execute_result"
    }
   ],
   "source": [
    "import joblib\n",
    "joblib.dump(model, 'parkinsons_detector.pkl')"
   ]
  },
  {
   "cell_type": "code",
   "execution_count": null,
   "id": "ee413bae",
   "metadata": {},
   "outputs": [],
   "source": []
  }
 ],
 "metadata": {
  "kaggle": {
   "accelerator": "none",
   "dataSources": [
    {
     "datasetId": 907215,
     "sourceId": 1538467,
     "sourceType": "datasetVersion"
    }
   ],
   "dockerImageVersionId": 30732,
   "isGpuEnabled": false,
   "isInternetEnabled": true,
   "language": "python",
   "sourceType": "notebook"
  },
  "kernelspec": {
   "display_name": "Python 3 (ipykernel)",
   "language": "python",
   "name": "python3"
  },
  "language_info": {
   "codemirror_mode": {
    "name": "ipython",
    "version": 3
   },
   "file_extension": ".py",
   "mimetype": "text/x-python",
   "name": "python",
   "nbconvert_exporter": "python",
   "pygments_lexer": "ipython3",
   "version": "3.12.0"
  },
  "papermill": {
   "default_parameters": {},
   "duration": 9.856256,
   "end_time": "2024-07-06T07:49:59.262555",
   "environment_variables": {},
   "exception": null,
   "input_path": "__notebook__.ipynb",
   "output_path": "__notebook__.ipynb",
   "parameters": {},
   "start_time": "2024-07-06T07:49:49.406299",
   "version": "2.5.0"
  }
 },
 "nbformat": 4,
 "nbformat_minor": 5
}
